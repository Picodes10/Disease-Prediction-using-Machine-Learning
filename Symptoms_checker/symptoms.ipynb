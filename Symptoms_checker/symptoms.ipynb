{
 "cells": [
  {
   "cell_type": "code",
   "execution_count": 1,
   "id": "fc6b9d1c",
   "metadata": {},
   "outputs": [
    {
     "name": "stdout",
     "output_type": "stream",
     "text": [
      "✅ Cleaned dataset saved as 'cleaned_symptom_dataset.csv'\n"
     ]
    }
   ],
   "source": [
    "import pandas as pd\n",
    "\n",
    "# Load your files\n",
    "symptom_df = pd.read_csv(r\"dataset\\dataset.csv\")  # main symptom-to-disease file\n",
    "desc_df = pd.read_csv(r\"dataset\\symptom_Description.csv\")\n",
    "precaution_df = pd.read_csv(r\"dataset\\symptom_precaution.csv\")\n",
    "\n",
    "# Rename columns if necessary for consistency\n",
    "desc_df.columns = ['Disease', 'Description']\n",
    "precaution_df.columns = ['Disease', 'Precaution_1', 'Precaution_2', 'Precaution_3', 'Precaution_4']\n",
    "\n",
    "# Merge description\n",
    "merged_df = symptom_df.merge(desc_df, on='Disease', how='left')\n",
    "\n",
    "# Merge precautions\n",
    "merged_df = merged_df.merge(precaution_df, on='Disease', how='left')\n",
    "\n",
    "# Combine all precautions into a single string column\n",
    "merged_df['Precautions'] = merged_df[['Precaution_1', 'Precaution_2', 'Precaution_3', 'Precaution_4']].fillna('').agg(', '.join, axis=1)\n",
    "\n",
    "# Optional: drop the individual precaution columns\n",
    "merged_df.drop(columns=['Precaution_1', 'Precaution_2', 'Precaution_3', 'Precaution_4'], inplace=True)\n",
    "\n",
    "# Save cleaned dataset\n",
    "merged_df.to_csv('cleaned_symptom_dataset.csv', index=False)\n",
    "print(\"✅ Cleaned dataset saved as 'cleaned_symptom_dataset.csv'\")\n"
   ]
  },
  {
   "cell_type": "code",
   "execution_count": 2,
   "id": "95396c57",
   "metadata": {},
   "outputs": [
    {
     "name": "stdout",
     "output_type": "stream",
     "text": [
      "✅ Model training complete! Files saved in /models\n"
     ]
    }
   ],
   "source": [
    "import pandas as pd\n",
    "from sklearn.naive_bayes import MultinomialNB\n",
    "from sklearn.preprocessing import LabelEncoder\n",
    "import joblib\n",
    "import os\n",
    "os.makedirs('models', exist_ok=True)\n",
    "\n",
    "# Load cleaned dataset\n",
    "df = pd.read_csv(\"cleaned_symptom_dataset.csv\")\n",
    "\n",
    "# 1. Collect symptom columns (auto-detect)\n",
    "symptom_cols = [col for col in df.columns if col.lower().startswith('symptom')]\n",
    "\n",
    "# 2. Fill missing symptoms with ''\n",
    "df[symptom_cols] = df[symptom_cols].fillna('')\n",
    "\n",
    "# 3. Combine all symptoms into a list per row\n",
    "df['SymptomList'] = df[symptom_cols].values.tolist()\n",
    "\n",
    "# 4. Create a unique symptom set\n",
    "all_symptoms = sorted(set(s for row in df['SymptomList'] for s in row if s))\n",
    "\n",
    "# 5. Convert symptom lists to binary vectors\n",
    "X = pd.DataFrame([[1 if s in row else 0 for s in all_symptoms] for row in df['SymptomList']], columns=all_symptoms)\n",
    "\n",
    "# 6. Encode diseases\n",
    "label_encoder = LabelEncoder()\n",
    "y = label_encoder.fit_transform(df['Disease'])\n",
    "\n",
    "# 7. Train model\n",
    "model = MultinomialNB()\n",
    "model.fit(X, y)\n",
    "\n",
    "# 8. Save model and assets\n",
    "joblib.dump(model, 'models/symptom_checker_model.pkl')\n",
    "joblib.dump(all_symptoms, 'models/symptom_list.pkl')\n",
    "joblib.dump(label_encoder, 'models/label_encoder.pkl')\n",
    "\n",
    "print(\"✅ Model training complete! Files saved in /models\")\n"
   ]
  },
  {
   "cell_type": "code",
   "execution_count": null,
   "id": "85a77855",
   "metadata": {},
   "outputs": [],
   "source": []
  },
  {
   "cell_type": "code",
   "execution_count": null,
   "id": "9d52f9ad",
   "metadata": {},
   "outputs": [],
   "source": []
  }
 ],
 "metadata": {
  "kernelspec": {
   "display_name": "venv",
   "language": "python",
   "name": "python3"
  },
  "language_info": {
   "codemirror_mode": {
    "name": "ipython",
    "version": 3
   },
   "file_extension": ".py",
   "mimetype": "text/x-python",
   "name": "python",
   "nbconvert_exporter": "python",
   "pygments_lexer": "ipython3",
   "version": "3.12.4"
  }
 },
 "nbformat": 4,
 "nbformat_minor": 5
}
